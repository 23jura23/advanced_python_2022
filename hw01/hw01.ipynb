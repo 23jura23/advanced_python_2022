{
 "cells": [
  {
   "cell_type": "code",
   "execution_count": 11,
   "metadata": {
    "collapsed": true
   },
   "outputs": [],
   "source": [
    "import ast\n",
    "import networkx as nx"
   ]
  },
  {
   "cell_type": "code",
   "execution_count": 12,
   "outputs": [],
   "source": [
    "with open('main.py') as f:\n",
    "    source = ''.join(f.readlines())"
   ],
   "metadata": {
    "collapsed": false,
    "pycharm": {
     "name": "#%%\n"
    }
   }
  },
  {
   "cell_type": "code",
   "execution_count": 13,
   "outputs": [],
   "source": [
    "main_ast = ast.parse(source)"
   ],
   "metadata": {
    "collapsed": false,
    "pycharm": {
     "name": "#%%\n"
    }
   }
  },
  {
   "cell_type": "code",
   "execution_count": 24,
   "outputs": [],
   "source": [
    "class ASTBuilder:\n",
    "    def __init__(self, root):\n",
    "        self.G = nx.Graph()\n",
    "\n",
    "        self.root = self.AntiSingleton(root)\n",
    "        self.build()\n",
    "\n",
    "    class AntiSingleton:\n",
    "        def __init__(self, singleton):\n",
    "            self.value = singleton\n",
    "\n",
    "    def build(self):\n",
    "        self.add_node(self.root)\n",
    "        self.visit(self.root)\n",
    "\n",
    "    def go_further(self, node):\n",
    "        return type(node) not in [ast.Load, ast.Store]\n",
    "\n",
    "    def add_node(self, node):\n",
    "        node_value = node.value\n",
    "\n",
    "        if isinstance(node_value, ast.Name):\n",
    "            label_i = node_value.id\n",
    "        elif isinstance(node_value, ast.Constant):\n",
    "            label_i = node_value.n\n",
    "        elif isinstance(node_value, ast.arg):\n",
    "            label_i = node_value.arg\n",
    "        elif isinstance(node_value, ast.BinOp):\n",
    "            label_i = type(node_value.op).__name__\n",
    "        elif isinstance(node_value, ast.UnaryOp):\n",
    "            label_i = type(node_value.op).__name__\n",
    "        else:\n",
    "            label_i = type(node_value).__name__\n",
    "\n",
    "        self.G.add_node(node, label=label_i, style='filled', fillcolor=f'#{hex(31337*hash(type(node.value))%(256**3))[2:]}')\n",
    "\n",
    "    def visit(self, node):\n",
    "        for i in ast.iter_child_nodes(node.value):\n",
    "            if not self.go_further(i):\n",
    "                continue\n",
    "\n",
    "            node_i = self.AntiSingleton(i)\n",
    "\n",
    "            self.add_node(node_i)\n",
    "\n",
    "            self.G.add_edge(node, node_i)\n",
    "            self.visit(node_i)"
   ],
   "metadata": {
    "collapsed": false,
    "pycharm": {
     "name": "#%%\n"
    }
   }
  },
  {
   "cell_type": "code",
   "execution_count": 26,
   "outputs": [],
   "source": [
    "nx.drawing.nx_pydot.to_pydot(ASTBuilder(main_ast).G).write_png('artifacts/tree.png')"
   ],
   "metadata": {
    "collapsed": false,
    "pycharm": {
     "name": "#%%\n"
    }
   }
  },
  {
   "cell_type": "markdown",
   "source": [],
   "metadata": {
    "collapsed": false,
    "pycharm": {
     "name": "#%% md\n"
    }
   }
  }
 ],
 "metadata": {
  "kernelspec": {
   "display_name": "Python 3",
   "language": "python",
   "name": "python3"
  },
  "language_info": {
   "codemirror_mode": {
    "name": "ipython",
    "version": 2
   },
   "file_extension": ".py",
   "mimetype": "text/x-python",
   "name": "python",
   "nbconvert_exporter": "python",
   "pygments_lexer": "ipython2",
   "version": "2.7.6"
  }
 },
 "nbformat": 4,
 "nbformat_minor": 0
}